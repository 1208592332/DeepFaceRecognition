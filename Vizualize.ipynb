{
 "cells": [
  {
   "cell_type": "markdown",
   "metadata": {},
   "source": [
    "## Vizualize Faces"
   ]
  },
  {
   "cell_type": "code",
   "execution_count": 2,
   "metadata": {
    "scrolled": false
   },
   "outputs": [
    {
     "name": "stdout",
     "output_type": "stream",
     "text": [
      "/Users/sam/All-Program/App-DataSet/DeepFaceRecognition/original/sam/20171006_210052.jpg\n",
      "/Users/sam/All-Program/App-DataSet/DeepFaceRecognition/original/sam/20171108_082810.jpg\n"
     ]
    },
    {
     "name": "stderr",
     "output_type": "stream",
     "text": [
      "/Users/sam/App-Setup/anaconda/envs/anaconda35/lib/python3.5/site-packages/skimage/util/dtype.py:122: UserWarning: Possible precision loss when converting from uint16 to uint8\n",
      "  .format(dtypeobj_in, dtypeobj_out))\n"
     ]
    },
    {
     "name": "stdout",
     "output_type": "stream",
     "text": [
      "/Users/sam/All-Program/App-DataSet/DeepFaceRecognition/original/sam/20171031_132206.jpg\n",
      "/Users/sam/All-Program/App-DataSet/DeepFaceRecognition/original/sam/20171110_085420.jpg\n",
      "/Users/sam/All-Program/App-DataSet/DeepFaceRecognition/original/sam/_20170722_210002.jpg\n",
      "/Users/sam/All-Program/App-DataSet/DeepFaceRecognition/original/sam/20171016_221120.jpg\n",
      "/Users/sam/All-Program/App-DataSet/DeepFaceRecognition/original/sam/20170724_091254.jpg\n",
      "/Users/sam/All-Program/App-DataSet/DeepFaceRecognition/original/sam/20171022_150155.jpg\n",
      "/Users/sam/All-Program/App-DataSet/DeepFaceRecognition/original/sam/20171110_085350.jpg\n",
      "/Users/sam/All-Program/App-DataSet/DeepFaceRecognition/original/sam/20171011_190937.jpg\n",
      "/Users/sam/All-Program/App-DataSet/DeepFaceRecognition/original/sam/20171006_210039.jpg\n",
      "/Users/sam/All-Program/App-DataSet/DeepFaceRecognition/original/sam/20170801_163155.jpg\n",
      "/Users/sam/All-Program/App-DataSet/DeepFaceRecognition/original/sam/20170916_230828.jpg\n",
      "/Users/sam/All-Program/App-DataSet/DeepFaceRecognition/original/sam/20171011_185557.jpg\n",
      "/Users/sam/All-Program/App-DataSet/DeepFaceRecognition/original/jetha/20170721_120038.jpg\n",
      "/Users/sam/All-Program/App-DataSet/DeepFaceRecognition/original/jetha/IMG-20131224-WA0001-1-1.jpg\n",
      "/Users/sam/All-Program/App-DataSet/DeepFaceRecognition/original/jetha/1781213_10153328107744088_8526970251946861562_o-1.jpg\n",
      "/Users/sam/All-Program/App-DataSet/DeepFaceRecognition/original/jetha/20171207_194435.jpg\n",
      "/Users/sam/All-Program/App-DataSet/DeepFaceRecognition/original/raj/IMG_4676.jpg\n",
      "/Users/sam/All-Program/App-DataSet/DeepFaceRecognition/original/raj/IMG_20170818_204958440.jpg\n",
      "/Users/sam/All-Program/App-DataSet/DeepFaceRecognition/original/raj/IMG_4576.jpg\n",
      "/Users/sam/All-Program/App-DataSet/DeepFaceRecognition/original/raj/IMG_5078.jpg\n",
      "/Users/sam/All-Program/App-DataSet/DeepFaceRecognition/original/raj/IMG_4799.jpg\n",
      "/Users/sam/All-Program/App-DataSet/DeepFaceRecognition/original/raj/IMG_5112.jpg\n",
      "/Users/sam/All-Program/App-DataSet/DeepFaceRecognition/original/raj/IMG_5111.jpg\n",
      "/Users/sam/All-Program/App-DataSet/DeepFaceRecognition/original/raj/IMG_4795.jpg\n",
      "/Users/sam/All-Program/App-DataSet/DeepFaceRecognition/original/raj/IMG_5110.jpg\n",
      "/Users/sam/All-Program/App-DataSet/DeepFaceRecognition/original/raj/IMG_5011.jpg\n",
      "/Users/sam/All-Program/App-DataSet/DeepFaceRecognition/original/raj/IMG_4867.jpg\n",
      "/Users/sam/All-Program/App-DataSet/DeepFaceRecognition/original/raj/IMG_5012.jpg\n",
      "/Users/sam/All-Program/App-DataSet/DeepFaceRecognition/original/raj/IMG_5007.jpg\n",
      "/Users/sam/All-Program/App-DataSet/DeepFaceRecognition/original/raj/IMG_5013.jpg\n",
      "/Users/sam/All-Program/App-DataSet/DeepFaceRecognition/original/raj/IMG_4686.jpg\n",
      "/Users/sam/All-Program/App-DataSet/DeepFaceRecognition/original/raj/IMG_4917.jpg\n",
      "/Users/sam/All-Program/App-DataSet/DeepFaceRecognition/original/raj/IMG_5014.jpg\n"
     ]
    }
   ],
   "source": [
    "import os, sys\n",
    "import numpy as np\n",
    "from skimage import transform, io, img_as_uint\n",
    "from scipy import ndimage, misc\n",
    "# picPath = '/Users/sam/All-Program/App-DataSet/Deep-Neural-Nets/Models/FaceRecognition/camera_0.jpg'\n",
    "\n",
    "picPath = \"/Users/sam/All-Program/App-DataSet/DeepFaceRecognition/original/\"\n",
    "resizedPath = \"/Users/sam/All-Program/App-DataSet/DeepFaceRecognition/resized/\"\n",
    "\n",
    "def readImage(imagePath, resize=96):\n",
    "    '''\n",
    "        The input data is is in the shape of [nh, nw, nc], convert it to [nc, nh, nw]\n",
    "    '''\n",
    "    image = misc.imread(picPath)\n",
    "    img = np.around(np.transpose(image, (2,0,1))/255.0, decimals=12) #(2,0,1) = [nc, nh, nw]\n",
    "    print (image.shape)\n",
    "    \n",
    "# def resize(folderPath):\n",
    "folderPath = picPath\n",
    "people = [folder for folder in os.listdir(folderPath) if len(folder.split(\".\")) == 1]\n",
    "\n",
    "imageOrig = []\n",
    "imageRshape = []\n",
    "for name in people:\n",
    "#     if name != 'jetha':\n",
    "#         continue\n",
    "    outPersonPath = os.path.join(resizedPath, name)\n",
    "    if not os.path.exists(outPersonPath):\n",
    "        os.makedirs(outPersonPath)\n",
    "    personPath = os.path.join(folderPath, name)\n",
    "    imagePathList = [os.path.join(personPath,images) for images in os.listdir(personPath) if images.split(\".\")[1] == 'jpg']\n",
    "    for num, imagePath in enumerate(imagePathList):\n",
    "        print (imagePath)\n",
    "        image = ndimage.imread(imagePath, mode='RGB')\n",
    "\n",
    "        imageResized = misc.imresize(image, (96,96))\n",
    "#         imageList = io.imshow(imageResized)\n",
    "        io.imsave(os.path.join(outPersonPath, '%s.jpg'%str(num)), img_as_uint(imageResized))\n",
    "#         io.show()"
   ]
  },
  {
   "cell_type": "code",
   "execution_count": null,
   "metadata": {
    "collapsed": true
   },
   "outputs": [],
   "source": [
    "import tensorflow as tf\n",
    "with sess.as_default():\n",
    "    imgPath = \"/Users/sam/All-Program/App-DataSet/DeepFaceRecognition/original/sam/20171006_210052.jpg\"\n",
    "    fileQueue = tf.train.string_input_producer(tf.train.match_filenames_once(imgPath))\n",
    "    image_reader = tf.WholeFileReader()\n",
    "    _, image_file = image_reader.read(fileQueue)\n",
    "    image =  tf.image.decode_jpeg(image_file)\n",
    "    print (image.eval())"
   ]
  },
  {
   "cell_type": "code",
   "execution_count": null,
   "metadata": {
    "collapsed": true
   },
   "outputs": [],
   "source": [
    "resizedImagePath = \"/Users/sam/All-Program/App-DataSet/DeepFaceRecognition/resized/\"\n",
    "\n",
    "for "
   ]
  },
  {
   "cell_type": "code",
   "execution_count": null,
   "metadata": {
    "collapsed": true
   },
   "outputs": [],
   "source": []
  },
  {
   "cell_type": "code",
   "execution_count": null,
   "metadata": {
    "collapsed": true
   },
   "outputs": [],
   "source": []
  },
  {
   "cell_type": "code",
   "execution_count": null,
   "metadata": {
    "collapsed": true
   },
   "outputs": [],
   "source": []
  }
 ],
 "metadata": {
  "kernelspec": {
   "display_name": "Python 3",
   "language": "python",
   "name": "python3"
  },
  "language_info": {
   "codemirror_mode": {
    "name": "ipython",
    "version": 3
   },
   "file_extension": ".py",
   "mimetype": "text/x-python",
   "name": "python",
   "nbconvert_exporter": "python",
   "pygments_lexer": "ipython3",
   "version": "3.5.4"
  }
 },
 "nbformat": 4,
 "nbformat_minor": 2
}
