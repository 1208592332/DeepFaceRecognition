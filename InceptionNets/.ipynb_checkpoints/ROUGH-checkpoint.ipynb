{
 "cells": [
  {
   "cell_type": "code",
   "execution_count": 1,
   "metadata": {},
   "outputs": [
    {
     "name": "stderr",
     "output_type": "stream",
     "text": [
      "Using TensorFlow backend.\n"
     ]
    }
   ],
   "source": [
    "\n",
    "import tensorflow as tf\n",
    "import numpy as np\n",
    "import os\n",
    "from numpy import genfromtxt\n",
    "from keras import backend as K\n",
    "from keras.layers import Conv2D, ZeroPadding2D, Activation, Input, concatenate\n",
    "from keras.models import Model\n",
    "from keras.layers.normalization import BatchNormalization\n",
    "from keras.layers.pooling import MaxPooling2D, AveragePooling2D\n",
    "from keras.layers.core import Lambda, Flatten, Dense"
   ]
  },
  {
   "cell_type": "code",
   "execution_count": 9,
   "metadata": {
    "scrolled": false
   },
   "outputs": [
    {
     "name": "stdout",
     "output_type": "stream",
     "text": [
      "X_input  Tensor(\"input_7:0\", shape=(?, 96, 96, 3), dtype=float32)\n",
      "ZeroPadding2D  Tensor(\"zero_padding2d_43/Pad:0\", shape=(?, 102, 102, 3), dtype=float32)\n",
      "Activation  Tensor(\"activation_55/Relu:0\", shape=(?, 48, 48, 64), dtype=float32)\n",
      "ZeroPadding2D  Tensor(\"zero_padding2d_44/Pad:0\", shape=(?, 50, 50, 64), dtype=float32)\n",
      "MaxPooling2D  Tensor(\"max_pooling2d_19/MaxPool:0\", shape=(?, 24, 24, 64), dtype=float32)\n",
      "(?, 12, 12, 192)\n",
      "Chain 1:  (?, 12, 12, 64)\n",
      "Chain 2:  (?, 12, 12, 128)\n",
      "Chain 3:  (?, 12, 12, 32)\n",
      "Chain 4:  (?, 12, 12, 32)\n",
      "inception3a :  (?, 12, 12, 256)\n",
      "(7, 7, 3, 64)\n"
     ]
    },
    {
     "ename": "ValueError",
     "evalue": "You called `set_weights(weights)` on layer \"conv1\" with a  weight list of length 7, but the layer was expecting 2 weights. Provided weights: [[[[  1.49056152e-01  -1.34768113e-01   1.51423007...",
     "output_type": "error",
     "traceback": [
      "\u001b[0;31m---------------------------------------------------------------------------\u001b[0m",
      "\u001b[0;31mValueError\u001b[0m                                Traceback (most recent call last)",
      "\u001b[0;32m<ipython-input-9-71c7cf05df88>\u001b[0m in \u001b[0;36m<module>\u001b[0;34m()\u001b[0m\n\u001b[1;32m    103\u001b[0m \u001b[0mprint\u001b[0m \u001b[0;34m(\u001b[0m\u001b[0mconv1_w\u001b[0m\u001b[0;34m.\u001b[0m\u001b[0mshape\u001b[0m\u001b[0;34m)\u001b[0m\u001b[0;34m\u001b[0m\u001b[0m\n\u001b[1;32m    104\u001b[0m \u001b[0;34m\u001b[0m\u001b[0m\n\u001b[0;32m--> 105\u001b[0;31m \u001b[0mFRmodel\u001b[0m\u001b[0;34m.\u001b[0m\u001b[0mget_layer\u001b[0m\u001b[0;34m(\u001b[0m\u001b[0;34m'conv1'\u001b[0m\u001b[0;34m)\u001b[0m\u001b[0;34m.\u001b[0m\u001b[0mset_weights\u001b[0m\u001b[0;34m(\u001b[0m\u001b[0mconv1_w\u001b[0m\u001b[0;34m)\u001b[0m\u001b[0;34m\u001b[0m\u001b[0m\n\u001b[0m",
      "\u001b[0;32m/Users/sam/App-Setup/anaconda/lib/python3.6/site-packages/keras/engine/topology.py\u001b[0m in \u001b[0;36mset_weights\u001b[0;34m(self, weights)\u001b[0m\n\u001b[1;32m   1188\u001b[0m                              \u001b[0mstr\u001b[0m\u001b[0;34m(\u001b[0m\u001b[0mlen\u001b[0m\u001b[0;34m(\u001b[0m\u001b[0mparams\u001b[0m\u001b[0;34m)\u001b[0m\u001b[0;34m)\u001b[0m \u001b[0;34m+\u001b[0m\u001b[0;34m\u001b[0m\u001b[0m\n\u001b[1;32m   1189\u001b[0m                              \u001b[0;34m' weights. Provided weights: '\u001b[0m \u001b[0;34m+\u001b[0m\u001b[0;34m\u001b[0m\u001b[0m\n\u001b[0;32m-> 1190\u001b[0;31m                              str(weights)[:50] + '...')\n\u001b[0m\u001b[1;32m   1191\u001b[0m         \u001b[0;32mif\u001b[0m \u001b[0;32mnot\u001b[0m \u001b[0mparams\u001b[0m\u001b[0;34m:\u001b[0m\u001b[0;34m\u001b[0m\u001b[0m\n\u001b[1;32m   1192\u001b[0m             \u001b[0;32mreturn\u001b[0m\u001b[0;34m\u001b[0m\u001b[0m\n",
      "\u001b[0;31mValueError\u001b[0m: You called `set_weights(weights)` on layer \"conv1\" with a  weight list of length 7, but the layer was expecting 2 weights. Provided weights: [[[[  1.49056152e-01  -1.34768113e-01   1.51423007..."
     ]
    }
   ],
   "source": [
    "def inception_block_1a(X):\n",
    "    \"\"\"\n",
    "    Implementation of an inception block\n",
    "    \"\"\"\n",
    "    X_1x1 = Conv2D(64, (1, 1), data_format='channels_last', name='inception_3a_1x1_conv')(X)\n",
    "    X_1x1 = BatchNormalization(axis=-1, epsilon=0.00001, name='inception_3a_1x1_bn')(X_1x1)\n",
    "    X_1x1 = Activation('relu')(X_1x1)\n",
    "    print('Chain 1: ', X_1x1.shape)\n",
    "    \n",
    "    X_3x3 = Conv2D(96, (1, 1), data_format='channels_last', name ='inception_3a_3x3_conv1')(X)\n",
    "    X_3x3 = BatchNormalization(axis=-1, epsilon=0.00001, name = 'inception_3a_3x3_bn1')(X_3x3)\n",
    "    X_3x3 = Activation('relu')(X_3x3)\n",
    "    X_3x3 = ZeroPadding2D(padding=(1, 1), data_format='channels_last')(X_3x3)\n",
    "    X_3x3 = Conv2D(128, (3, 3), data_format='channels_last', name='inception_3a_3x3_conv2')(X_3x3)\n",
    "    X_3x3 = BatchNormalization(axis=-1, epsilon=0.00001, name='inception_3a_3x3_bn2')(X_3x3)\n",
    "    X_3x3 = Activation('relu')(X_3x3)\n",
    "    print('Chain 2: ', X_3x3.shape)\n",
    "    \n",
    "    X_5x5 = Conv2D(16, (1, 1), data_format='channels_last', name='inception_3a_5x5_conv1')(X)\n",
    "    X_5x5 = BatchNormalization(axis=-1, epsilon=0.00001, name='inception_3a_5x5_bn1')(X_5x5)\n",
    "    X_5x5 = Activation('relu')(X_5x5)\n",
    "    X_5x5 = ZeroPadding2D(padding=(2, 2), data_format='channels_last')(X_5x5)\n",
    "    X_5x5 = Conv2D(32, (5, 5), data_format='channels_last', name='inception_3a_5x5_conv2')(X_5x5)\n",
    "    X_5x5 = BatchNormalization(axis=-1, epsilon=0.00001, name='inception_3a_5x5_bn2')(X_5x5)\n",
    "    X_5x5 = Activation('relu')(X_5x5)\n",
    "    print('Chain 3: ', X_5x5.shape)\n",
    "    \n",
    "    X_pool = MaxPooling2D(pool_size=3, strides=2, data_format='channels_last')(X)\n",
    "    X_pool = Conv2D(32, (1, 1), data_format='channels_last', name='inception_3a_pool_conv')(X_pool)\n",
    "    X_pool = BatchNormalization(axis=-1, epsilon=0.00001, name='inception_3a_pool_bn')(X_pool)\n",
    "    X_pool = Activation('relu')(X_pool)\n",
    "    X_pool = ZeroPadding2D(padding=((3, 4), (3, 4)), data_format='channels_last')(X_pool)\n",
    "    print('Chain 4: ', X_pool.shape)\n",
    "    \n",
    "\n",
    "    \n",
    "    # CONCAT\n",
    "    inception = concatenate([X_3x3, X_5x5, X_pool, X_1x1], axis=-1)\n",
    "    print('inception3a : ', inception.shape)\n",
    "    return inception\n",
    "\n",
    "\n",
    "def faceRecoModel(input_shape):\n",
    "    \"\"\"\n",
    "    Implementation of the Inception model used for FaceNet\n",
    "\n",
    "    Arguments:\n",
    "    input_shape -- shape of the images of the dataset\n",
    "\n",
    "    Returns:\n",
    "    model -- a Model() instance in Keras\n",
    "    \"\"\"\n",
    "    \n",
    "    # Define the input as a tensor with shape input_shape\n",
    "    X_input = Input(input_shape)\n",
    "    print('X_input ', X_input)\n",
    "    # Zero-Padding\n",
    "    X = ZeroPadding2D((3, 3))(X_input)\n",
    "    print('ZeroPadding2D ', X)\n",
    "    # First Block\n",
    "    X = Conv2D(64, (7, 7), strides=(2, 2), name='conv1')(X)\n",
    "    X = BatchNormalization(axis=1, name='bn1')(X)\n",
    "    X = Activation('relu')(X)\n",
    "    print('Activation ', X)\n",
    "    # Zero-Padding + MAXPOOL\n",
    "    X = ZeroPadding2D((1, 1))(X)\n",
    "    print('ZeroPadding2D ', X)\n",
    "    X = MaxPooling2D((3, 3), strides=2)(X)\n",
    "    print('MaxPooling2D ', X)\n",
    "    # Second Block\n",
    "    X = Conv2D(64, (1, 1), strides=(1, 1), name='conv2')(X)\n",
    "    X = BatchNormalization(axis=1, epsilon=0.00001, name='bn2')(X)\n",
    "    X = Activation('relu')(X)\n",
    "    \n",
    "    # Zero-Padding + MAXPOOL\n",
    "    X = ZeroPadding2D((1, 1))(X)\n",
    "    \n",
    "    # Second Block\n",
    "    X = Conv2D(192, (3, 3), strides=(1, 1), name='conv3')(X)\n",
    "    X = BatchNormalization(axis=1, epsilon=0.00001, name='bn3')(X)\n",
    "    X = Activation('relu')(X)\n",
    "    \n",
    "    # Zero-Padding + MAXPOOL\n",
    "    X = ZeroPadding2D((1, 1))(X)\n",
    "    X = MaxPooling2D(pool_size=3, strides=2)(X)\n",
    "    print (X.shape)\n",
    "    # Inception 1: a/b/c\n",
    "\n",
    "    X = inception_block_1a(X)\n",
    "    \n",
    "    model = Model(inputs = X_input, outputs = X, name='FaceRecoModel')\n",
    "    return model\n",
    "\n",
    "FRmodel = faceRecoModel(input_shape=(96, 96, 3))\n",
    "\n",
    "# get only the conv weight\n",
    "moduleWeightDict = {}\n",
    "parentPath = \"/Users/sam/All-Program/App-DataSet/Deep-Neural-Nets/Models/FaceNet-Inception/\"\n",
    "module_weight = 'conv1_w'\n",
    "module_bias = 'conv1_b'\n",
    "conv1_w = np.genfromtxt(parentPath+\"/\"+moduleName+'.csv', delimiter=',', dtype=None)\n",
    "conv1_w = np.reshape(conv1_w, [64, 3, 7, 7])\n",
    "conv1_w = np.transpose(conv1_w, (2, 3, 1, 0))\n",
    "\n",
    "conv1_b = np.genfromtxt(parentPath+\"/\"+moduleName+'.csv', delimiter=',', dtype=None)\n",
    "print (conv1_w.shape)\n",
    "\n",
    "FRmodel.get_layer('conv1').set_weights(conv1_w)"
   ]
  },
  {
   "cell_type": "code",
   "execution_count": 3,
   "metadata": {},
   "outputs": [
    {
     "data": {
      "text/plain": [
       "<keras.engine.training.Model at 0x12c6ebb00>"
      ]
     },
     "execution_count": 3,
     "metadata": {},
     "output_type": "execute_result"
    }
   ],
   "source": [
    "FRmodel"
   ]
  },
  {
   "cell_type": "code",
   "execution_count": 5,
   "metadata": {},
   "outputs": [
    {
     "name": "stdout",
     "output_type": "stream",
     "text": [
      "(96, 96, 3)\n"
     ]
    },
    {
     "name": "stderr",
     "output_type": "stream",
     "text": [
      "/Users/sam/App-Setup/anaconda/lib/python3.6/site-packages/ipykernel_launcher.py:5: DeprecationWarning: `imread` is deprecated!\n",
      "`imread` is deprecated in SciPy 1.0.0, and will be removed in 1.2.0.\n",
      "Use ``imageio.imread`` instead.\n",
      "  \"\"\"\n"
     ]
    }
   ],
   "source": [
    "picPath = '/Users/sam/All-Program/App-DataSet/Deep-Neural-Nets/Models/FaceRecognition/camera_0.jpg'\n",
    "\n",
    "from scipy import misc\n",
    "\n",
    "def readImage(imagePath):\n",
    "    '''\n",
    "        The input data is is in the shape of [nh, nw, nc], convert it to [nc, nh, nw]\n",
    "    '''\n",
    "    image = misc.imread(picPath)\n",
    "    \n",
    "    img = np.around(np.transpose(image, (2,0,1))/255.0, decimals=12) #(2,0,1) = [nc, nh, nw]\n",
    "    print (image.shape)"
   ]
  },
  {
   "cell_type": "code",
   "execution_count": 4,
   "metadata": {},
   "outputs": [
    {
     "ename": "ImportError",
     "evalue": "dlopen(/Users/sam/App-Setup/anaconda/lib/python3.6/site-packages/cv2.cpython-36m-darwin.so, 2): Library not loaded: @rpath/libintl.8.dylib\n  Referenced from: /Users/sam/App-Setup/anaconda/lib/libharfbuzz.0.dylib\n  Reason: image not found",
     "output_type": "error",
     "traceback": [
      "\u001b[0;31m---------------------------------------------------------------------------\u001b[0m",
      "\u001b[0;31mImportError\u001b[0m                               Traceback (most recent call last)",
      "\u001b[0;32m<ipython-input-4-72fbbcfe2587>\u001b[0m in \u001b[0;36m<module>\u001b[0;34m()\u001b[0m\n\u001b[0;32m----> 1\u001b[0;31m \u001b[0;32mimport\u001b[0m \u001b[0mcv2\u001b[0m\u001b[0;34m\u001b[0m\u001b[0m\n\u001b[0m",
      "\u001b[0;31mImportError\u001b[0m: dlopen(/Users/sam/App-Setup/anaconda/lib/python3.6/site-packages/cv2.cpython-36m-darwin.so, 2): Library not loaded: @rpath/libintl.8.dylib\n  Referenced from: /Users/sam/App-Setup/anaconda/lib/libharfbuzz.0.dylib\n  Reason: image not found"
     ]
    }
   ],
   "source": [
    "import cv2"
   ]
  },
  {
   "cell_type": "code",
   "execution_count": 6,
   "metadata": {},
   "outputs": [
    {
     "data": {
      "text/plain": [
       "array([[[247, 254, 213],\n",
       "        [250, 255, 225],\n",
       "        [252, 255, 223],\n",
       "        ..., \n",
       "        [221, 224, 179],\n",
       "        [244, 247, 190],\n",
       "        [249, 255, 181]],\n",
       "\n",
       "       [[251, 254, 223],\n",
       "        [253, 253, 243],\n",
       "        [254, 252, 240],\n",
       "        ..., \n",
       "        [242, 247, 183],\n",
       "        [235, 235, 199],\n",
       "        [212, 215, 158]],\n",
       "\n",
       "       [[254, 255, 221],\n",
       "        [255, 253, 250],\n",
       "        [255, 251, 255],\n",
       "        ..., \n",
       "        [238, 246, 161],\n",
       "        [237, 234, 201],\n",
       "        [237, 235, 196]],\n",
       "\n",
       "       ..., \n",
       "       [[253, 252, 255],\n",
       "        [246, 245, 253],\n",
       "        [217, 215, 226],\n",
       "        ..., \n",
       "        [255, 255, 255],\n",
       "        [253, 253, 253],\n",
       "        [255, 255, 255]],\n",
       "\n",
       "       [[213, 211, 222],\n",
       "        [178, 176, 187],\n",
       "        [155, 153, 166],\n",
       "        ..., \n",
       "        [255, 255, 255],\n",
       "        [253, 253, 255],\n",
       "        [255, 255, 255]],\n",
       "\n",
       "       [[156, 154, 165],\n",
       "        [143, 141, 154],\n",
       "        [145, 143, 157],\n",
       "        ..., \n",
       "        [229, 228, 233],\n",
       "        [254, 254, 255],\n",
       "        [255, 255, 255]]], dtype=uint8)"
      ]
     },
     "execution_count": 6,
     "metadata": {},
     "output_type": "execute_result"
    }
   ],
   "source": [
    "image"
   ]
  },
  {
   "cell_type": "code",
   "execution_count": null,
   "metadata": {
    "collapsed": true
   },
   "outputs": [],
   "source": []
  }
 ],
 "metadata": {
  "kernelspec": {
   "display_name": "Python 3",
   "language": "python",
   "name": "python3"
  },
  "language_info": {
   "codemirror_mode": {
    "name": "ipython",
    "version": 3
   },
   "file_extension": ".py",
   "mimetype": "text/x-python",
   "name": "python",
   "nbconvert_exporter": "python",
   "pygments_lexer": "ipython3",
   "version": "3.6.1"
  }
 },
 "nbformat": 4,
 "nbformat_minor": 2
}
