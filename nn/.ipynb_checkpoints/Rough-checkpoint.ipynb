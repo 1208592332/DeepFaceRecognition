{
 "cells": [
  {
   "cell_type": "code",
   "execution_count": 1,
   "metadata": {},
   "outputs": [
    {
     "name": "stderr",
     "output_type": "stream",
     "text": [
      "Using TensorFlow backend.\n"
     ]
    }
   ],
   "source": [
    "\n",
    "import tensorflow as tf\n",
    "import numpy as np\n",
    "import os\n",
    "from numpy import genfromtxt\n",
    "from keras import backend as K\n",
    "from keras.layers import Conv2D, ZeroPadding2D, Activation, Input, concatenate\n",
    "from keras.models import Model\n",
    "from keras.layers.normalization import BatchNormalization\n",
    "from keras.layers.pooling import MaxPooling2D, AveragePooling2D\n",
    "from keras.layers.core import Lambda, Flatten, Dense"
   ]
  },
  {
   "cell_type": "code",
   "execution_count": 2,
   "metadata": {
    "collapsed": true
   },
   "outputs": [],
   "source": [
    "# Following the Paper from inception module\n",
    "\n",
    "# The first three layers are the simple conv layer followed \n",
    "    # conv -> Maxpool -> BN -> conv -> conv -> BN -> Maxpool\n",
    "# Now the inception bloacks starts\n",
    "    # Block = Layer1 [1x1, 1x1, Maxpool], Layer2 [1x1, 3x3, 5x5, 1x1]\n",
    "    # 2* [Block -> concat] -> Maxpool     \n",
    "    # 5 * [Block -> concat] -> Maxpool\n",
    "    # 2* [Block -> concat] -> Maxpool \n",
    "    \n",
    "    \n",
    "# The Facenet model have a slightly different architecture when compared to inception modules\n",
    "convShape = {\n",
    "    'conv1': [64, 3, 7, 7],\n",
    "    'conv2': [64, 64, 1, 1],\n",
    "    'conv3': [192, 64, 3, 3],\n",
    "# Block 1\n",
    "    # Chain 1\n",
    "    'inception_3a_1x1_conv': [64, 192, 1, 1],\n",
    "    # Chain 2\n",
    "    'inception_3a_3x3_conv1': [96, 192, 1, 1],\n",
    "    'inception_3a_3x3_conv2': [128, 96, 3, 3],\n",
    "    # Chain 3\n",
    "    'inception_3a_5x5_conv1': [16, 192, 1, 1],\n",
    "    'inception_3a_5x5_conv2': [32, 16, 5, 5],\n",
    "    # Chain 4\n",
    "    'inception_3a_pool_conv': [32, 192, 1, 1],\n",
    "   \n",
    "# Block 2\n",
    "    # Chain 1\n",
    "    'inception_3b_1x1_conv': [64, 256, 1, 1],\n",
    "    # Chain 2\n",
    "    'inception_3b_3x3_conv1': [96, 256, 1, 1],\n",
    "    'inception_3b_3x3_conv2': [128, 96, 3, 3],\n",
    "    # Chain 3\n",
    "    'inception_3b_5x5_conv1': [32, 256, 1, 1],\n",
    "    'inception_3b_5x5_conv2': [64, 32, 5, 5],\n",
    "    # Chain 4\n",
    "    'inception_3b_pool_conv': [64, 256, 1, 1],\n",
    "   \n",
    "# Block 3  [Note: No chain 1 and 4]\n",
    "    # Chain 2\n",
    "    'inception_3c_3x3_conv1': [128, 320, 1, 1],\n",
    "    'inception_3c_3x3_conv2': [256, 128, 3, 3],\n",
    "    # Chain 3 : \n",
    "    'inception_3c_5x5_conv1': [32, 320, 1, 1],\n",
    "    'inception_3c_5x5_conv2': [64, 32, 5, 5],\n",
    "\n",
    "# Block 4\n",
    "    # Chain 1\n",
    "    'inception_4a_1x1_conv': [256, 640, 1, 1],\n",
    "    # Chain 2\n",
    "    'inception_4a_3x3_conv1': [96, 640, 1, 1],\n",
    "    'inception_4a_3x3_conv2': [192, 96, 3, 3],\n",
    "    # Chain 3\n",
    "    'inception_4a_5x5_conv1': [32, 640, 1, 1,],\n",
    "    'inception_4a_5x5_conv2': [64, 32, 5, 5],\n",
    "    # Chain 4 \n",
    "    'inception_4a_pool_conv': [128, 640, 1, 1],\n",
    "\n",
    "# Block 5\n",
    "    # Chain 2\n",
    "    'inception_4e_3x3_conv1': [160, 640, 1, 1],\n",
    "    'inception_4e_3x3_conv2': [256, 160, 3, 3],\n",
    "    # Chain 3\n",
    "    'inception_4e_5x5_conv1': [64, 640, 1, 1],\n",
    "    'inception_4e_5x5_conv2': [128, 64, 5, 5],\n",
    "\n",
    "# Block 6\n",
    "    # Chain 1\n",
    "    'inception_5a_1x1_conv': [256, 1024, 1, 1],\n",
    "    # Chain 2\n",
    "    'inception_5a_3x3_conv1': [96, 1024, 1, 1],\n",
    "    'inception_5a_3x3_conv2': [384, 96, 3, 3],\n",
    "    # Chain 3\n",
    "    'inception_5a_pool_conv': [96, 1024, 1, 1],\n",
    "  \n",
    "# Bloack 7\n",
    "    # Chain 1\n",
    "    'inception_5b_1x1_conv': [256, 736, 1, 1],\n",
    "    # Chain 2\n",
    "    'inception_5b_3x3_conv1': [96, 736, 1, 1],\n",
    "    'inception_5b_3x3_conv2': [384, 96, 3, 3],\n",
    "    # Chain 3\n",
    "    'inception_5b_pool_conv': [96, 736, 1, 1],\n",
    "  \n",
    "}"
   ]
  },
  {
   "cell_type": "code",
   "execution_count": 3,
   "metadata": {
    "collapsed": true
   },
   "outputs": [],
   "source": [
    "picPath = '/Users/sam/All-Program/App-DataSet/Deep-Neural-Nets/Models/FaceRecognition/camera_0.jpg'\n",
    "\n",
    "from scipy import misc\n",
    "\n",
    "def readImage(imagePath):\n",
    "    '''\n",
    "        The input data is is in the shape of [nh, nw, nc], convert it to [nc, nh, nw]\n",
    "    '''\n",
    "    image = misc.imread(picPath)\n",
    "    \n",
    "    img = np.around(np.transpose(image, (2,0,1))/255.0, decimals=12) #(2,0,1) = [nc, nh, nw]\n",
    "    print (image.shape)"
   ]
  },
  {
   "cell_type": "markdown",
   "metadata": {},
   "source": [
    "## Load Image"
   ]
  },
  {
   "cell_type": "code",
   "execution_count": 4,
   "metadata": {
    "collapsed": true
   },
   "outputs": [],
   "source": [
    "picPath = '/Users/sam/All-Program/App-DataSet/Deep-Neural-Nets/Models/FaceRecognition/camera_0.jpg'\n",
    "\n",
    "from scipy import misc\n",
    "\n",
    "def readImage(imagePath):\n",
    "    '''\n",
    "        The input data is is in the shape of [nh, nw, nc], convert it to [nc, nh, nw]\n",
    "    '''\n",
    "    image = misc.imread(picPath)\n",
    "    \n",
    "    img = np.around(image/255.0, decimals=12) #(2,0,1) = [nc, nh, nw]\n",
    "    print (image.shape)\n",
    "    return img"
   ]
  },
  {
   "cell_type": "markdown",
   "metadata": {},
   "source": [
    "## Load Weights"
   ]
  },
  {
   "cell_type": "code",
   "execution_count": 5,
   "metadata": {},
   "outputs": [
    {
     "name": "stdout",
     "output_type": "stream",
     "text": [
      "conv1\n",
      "(7, 7, 3, 64)\n",
      "(64,)\n",
      "conv2\n",
      "(1, 1, 64, 64)\n",
      "(64,)\n",
      "conv3\n",
      "(3, 3, 64, 192)\n",
      "(192,)\n",
      "inception_3a_1x1_conv\n",
      "(1, 1, 192, 64)\n",
      "(64,)\n",
      "inception_3a_3x3_conv1\n",
      "(1, 1, 192, 96)\n",
      "(96,)\n",
      "inception_3a_3x3_conv2\n",
      "(3, 3, 96, 128)\n",
      "(128,)\n",
      "inception_3a_5x5_conv1\n",
      "(1, 1, 192, 16)\n",
      "(16,)\n",
      "inception_3a_5x5_conv2\n",
      "(5, 5, 16, 32)\n",
      "(32,)\n",
      "inception_3a_pool_conv\n",
      "(1, 1, 192, 32)\n",
      "(32,)\n"
     ]
    }
   ],
   "source": [
    "from collections import defaultdict\n",
    "moduleWeightDict = defaultdict(lambda: defaultdict())\n",
    "parentPath = \"/Users/sam/All-Program/App-DataSet/Deep-Neural-Nets/Models/FaceNet-Inception/\"\n",
    "layer_name = ['conv1', 'conv2', 'conv3', \n",
    "              'inception_3a_1x1_conv', \n",
    "              'inception_3a_3x3_conv1', \n",
    "              'inception_3a_3x3_conv2',\n",
    "              'inception_3a_5x5_conv1', \n",
    "              'inception_3a_5x5_conv2', \n",
    "              'inception_3a_pool_conv',\n",
    "              'inception_3b_1x1_conv', \n",
    "              'inception_3b_3x3_conv1', \n",
    "              'inception_3b_3x3_conv2',\n",
    "              'inception_3b_5x5_conv1', \n",
    "              'inception_3b_5x5_conv2', \n",
    "              'inception_3b_pool_conv']#, 'conv1_w']\n",
    "\n",
    "for name in layer_name:\n",
    "    conv1_w = np.genfromtxt(parentPath+\"/\"+name+'_w.csv', delimiter=',', dtype=None)\n",
    "    conv1_w = np.reshape(conv1_w, convShape[name])\n",
    "    conv1_w = np.transpose(conv1_w, (2, 3, 1, 0))\n",
    "    \n",
    "    conv1_b = np.genfromtxt(parentPath+\"/\"+name+'_b.csv', delimiter=',', dtype=None)\n",
    "    moduleWeightDict[name]['w'] = conv1_w\n",
    "    moduleWeightDict[name]['b'] = conv1_b\n",
    "    print (name)\n",
    "    print (conv1_w.shape)\n",
    "    print (conv1_b.shape)\n",
    "# FRmodel.get_layer('conv1').set_weights([conv1_w, conv1_b])"
   ]
  },
  {
   "cell_type": "code",
   "execution_count": 6,
   "metadata": {
    "scrolled": true
   },
   "outputs": [
    {
     "name": "stdout",
     "output_type": "stream",
     "text": [
      "(96, 96, 3)\n",
      "inpTensor  (?, 96, 96, 3)\n",
      "conv1:  (?, 48, 48, 64)\n",
      "conv1 Zero-Padding + MAXPOOL  (?, 50, 50, 64)"
     ]
    },
    {
     "name": "stderr",
     "output_type": "stream",
     "text": [
      "/Users/sam/App-Setup/anaconda/lib/python3.6/site-packages/ipykernel_launcher.py:9: DeprecationWarning: `imread` is deprecated!\n",
      "`imread` is deprecated in SciPy 1.0.0, and will be removed in 1.2.0.\n",
      "Use ``imageio.imread`` instead.\n",
      "  if __name__ == '__main__':\n"
     ]
    },
    {
     "name": "stdout",
     "output_type": "stream",
     "text": [
      "\n",
      "conv1 Zero-Padding + MAXPOOL  (?, 24, 24, 64)\n",
      "conv2:  (?, 24, 24, 64)\n",
      "conv2 Zero-Padding + MAXPOOL  (?, 26, 26, 64)\n",
      "conv3:  (?, 24, 24, 192)\n",
      "conv3 Zero-Padding + MAXPOOL  (?, 26, 26, 192)\n",
      "conv3 Zero-Padding + MAXPOOL  (?, 12, 12, 192)\n",
      "Inside Inception module1:  (?, 12, 12, 192)\n",
      "inception_3a_3x3 conv1 (?, 12, 12, 96)\n",
      "self.params[conv2_name][w] (3, 3, 96, 128)\n",
      "Chain 2:  (?, 12, 12, 128)\n",
      "Chain 3:  (?, 12, 12, 32)\n",
      "Chain 3:  (?, 12, 12, 32)\n",
      "Chain 1:  (?, 12, 12, 64)\n",
      "inception3a:  (?, 12, 12, 256)\n"
     ]
    }
   ],
   "source": [
    "from nn.Inception import getModel\n",
    "\n",
    "def reset_graph():  # Reset the graph\n",
    "    if 'sess' in globals() and sess:\n",
    "        sess.close()\n",
    "    tf.reset_default_graph()\n",
    "\n",
    "img = readImage(picPath)\n",
    "# img = np.reshape(img, (1,img.shape[0], img.shape[1], img.shape[2]))\n",
    "img.shape\n",
    "reset_graph()\n",
    "tensorDict = getModel(img.shape, params=moduleWeightDict)#(img, conv1_w, conv1_b, s=2, pad='SAME',  scope_name='conv1', isTrainable=False)"
   ]
  },
  {
   "cell_type": "code",
   "execution_count": null,
   "metadata": {},
   "outputs": [],
   "source": [
    "with tf.Session() as sess:\n",
    "    sess.run(tf.global_variables_initializer())\n",
    "#     print (img.shape)\n",
    "    img1 = np.reshape(img, (1,img.shape[0], img.shape[1], img.shape[2]))\n",
    "    print (img1.shape)\n",
    "    x = sess.run([tensorDict['output']], feed_dict={tensorDict['inpTensor']:img1})\n",
    "    print (x[0].shape)"
   ]
  },
  {
   "cell_type": "code",
   "execution_count": null,
   "metadata": {
    "collapsed": true
   },
   "outputs": [],
   "source": []
  }
 ],
 "metadata": {
  "kernelspec": {
   "display_name": "Python 3",
   "language": "python",
   "name": "python3"
  },
  "language_info": {
   "codemirror_mode": {
    "name": "ipython",
    "version": 3
   },
   "file_extension": ".py",
   "mimetype": "text/x-python",
   "name": "python",
   "nbconvert_exporter": "python",
   "pygments_lexer": "ipython3",
   "version": "3.6.1"
  }
 },
 "nbformat": 4,
 "nbformat_minor": 1
}
