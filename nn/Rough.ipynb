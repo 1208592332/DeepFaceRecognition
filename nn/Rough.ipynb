{
 "cells": [
  {
   "cell_type": "code",
   "execution_count": 1,
   "metadata": {
    "collapsed": true
   },
   "outputs": [],
   "source": [
    "\n",
    "import tensorflow as tf\n",
    "import numpy as np\n",
    "import os\n",
    "from numpy import genfromtxt\n",
    "from nn.params import layer_name, convShape\n",
    "# from keras import backend as K\n",
    "# from keras.layers import Conv2D, ZeroPadding2D, Activation, Input, concatenate\n",
    "# from keras.models import Model\n",
    "# from keras.layers.normalization import BatchNormalization\n",
    "# from keras.layers.pooling import MaxPooling2D, AveragePooling2D\n",
    "# from keras.layers.core import Lambda, Flatten, Dense"
   ]
  },
  {
   "cell_type": "code",
   "execution_count": 2,
   "metadata": {
    "collapsed": true
   },
   "outputs": [],
   "source": [
    "picPath = '/Users/sam/All-Program/App-DataSet/Deep-Neural-Nets/Models/FaceRecognition/camera_0.jpg'\n",
    "\n",
    "from scipy import misc\n",
    "\n",
    "def readImage(imagePath):\n",
    "    '''\n",
    "        The input data is is in the shape of [nh, nw, nc], convert it to [nc, nh, nw]\n",
    "    '''\n",
    "    image = misc.imread(picPath)\n",
    "    \n",
    "    img = np.around(np.transpose(image, (2,0,1))/255.0, decimals=12) #(2,0,1) = [nc, nh, nw]\n",
    "    print (image.shape)"
   ]
  },
  {
   "cell_type": "markdown",
   "metadata": {},
   "source": [
    "## Load Image"
   ]
  },
  {
   "cell_type": "code",
   "execution_count": 3,
   "metadata": {
    "collapsed": true
   },
   "outputs": [],
   "source": [
    "picPath = '/Users/sam/All-Program/App-DataSet/Deep-Neural-Nets/Models/FaceRecognition/camera_0.jpg'\n",
    "\n",
    "from scipy import misc\n",
    "\n",
    "def readImage(imagePath):\n",
    "    '''\n",
    "        The input data is is in the shape of [nh, nw, nc], convert it to [nc, nh, nw]\n",
    "    '''\n",
    "    image = misc.imread(picPath)\n",
    "    \n",
    "    img = np.around(image/255.0, decimals=12) #(2,0,1) = [nc, nh, nw]\n",
    "    print (image.shape)\n",
    "    return img"
   ]
  },
  {
   "cell_type": "markdown",
   "metadata": {},
   "source": [
    "## Load Weights"
   ]
  },
  {
   "cell_type": "code",
   "execution_count": 4,
   "metadata": {
    "scrolled": true
   },
   "outputs": [
    {
     "name": "stdout",
     "output_type": "stream",
     "text": [
      "conv1\n",
      "(7, 7, 3, 64)\n",
      "(64,)\n",
      "bn1\n",
      "(64,) (64,) (64,) (64,)\n",
      "conv2\n",
      "(1, 1, 64, 64)\n",
      "(64,)\n",
      "bn2\n",
      "(64,) (64,) (64,) (64,)\n",
      "conv3\n",
      "(3, 3, 64, 192)\n",
      "(192,)\n",
      "bn3\n",
      "(192,) (192,) (192,) (192,)\n",
      "inception_3a_1x1_conv\n",
      "(1, 1, 192, 64)\n",
      "(64,)\n",
      "inception_3a_1x1_bn\n",
      "(64,) (64,) (64,) (64,)\n",
      "inception_3a_5x5_conv1\n",
      "(1, 1, 192, 16)\n",
      "(16,)\n",
      "inception_3a_5x5_conv2\n",
      "(5, 5, 16, 32)\n",
      "(32,)\n",
      "inception_3a_5x5_bn1\n",
      "(16,) (16,) (16,) (16,)\n",
      "inception_3a_5x5_bn2\n",
      "(32,) (32,) (32,) (32,)\n",
      "inception_3a_3x3_conv1\n",
      "(1, 1, 192, 96)\n",
      "(96,)\n",
      "inception_3a_3x3_conv2\n",
      "(3, 3, 96, 128)\n",
      "(128,)\n",
      "inception_3a_3x3_bn1\n",
      "(96,) (96,) (96,) (96,)\n",
      "inception_3a_3x3_bn2\n",
      "(128,) (128,) (128,) (128,)\n",
      "inception_3a_pool_conv\n",
      "(1, 1, 192, 32)\n",
      "(32,)\n",
      "inception_3a_pool_bn\n",
      "(32,) (32,) (32,) (32,)\n",
      "inception_3b_1x1_conv\n",
      "(1, 1, 256, 64)\n",
      "(64,)\n",
      "inception_3b_1x1_bn\n",
      "(64,) (64,) (64,) (64,)\n",
      "inception_3b_3x3_conv1\n",
      "(1, 1, 256, 96)\n",
      "(96,)\n",
      "inception_3b_3x3_conv2\n",
      "(3, 3, 96, 128)\n",
      "(128,)\n",
      "inception_3b_3x3_bn1\n",
      "(96,) (96,) (96,) (96,)\n",
      "inception_3b_3x3_bn2\n",
      "(128,) (128,) (128,) (128,)\n",
      "inception_3b_5x5_conv1\n",
      "(1, 1, 256, 32)\n",
      "(32,)\n",
      "inception_3b_5x5_conv2\n",
      "(5, 5, 32, 64)\n",
      "(64,)\n",
      "inception_3b_5x5_bn1\n",
      "(32,) (32,) (32,) (32,)\n",
      "inception_3b_5x5_bn2\n",
      "(64,) (64,) (64,) (64,)\n",
      "inception_3b_pool_conv\n",
      "(1, 1, 256, 64)\n",
      "(64,)\n",
      "inception_3b_pool_bn\n",
      "(64,) (64,) (64,) (64,)\n",
      "inception_3c_3x3_conv1\n",
      "(1, 1, 320, 128)\n",
      "(128,)\n",
      "inception_3c_3x3_conv2\n",
      "(3, 3, 128, 256)\n",
      "(256,)\n",
      "inception_3c_3x3_bn1\n",
      "(128,) (128,) (128,) (128,)\n",
      "inception_3c_3x3_bn2\n",
      "(256,) (256,) (256,) (256,)\n",
      "inception_3c_5x5_conv1\n",
      "(1, 1, 320, 32)\n",
      "(32,)\n",
      "inception_3c_5x5_conv2\n",
      "(5, 5, 32, 64)\n",
      "(64,)\n",
      "inception_3c_5x5_bn1\n",
      "(32,) (32,) (32,) (32,)\n",
      "inception_3c_5x5_bn2\n",
      "(64,) (64,) (64,) (64,)\n",
      "inception_4a_1x1_conv\n",
      "(1, 1, 640, 256)\n",
      "(256,)\n",
      "inception_4a_1x1_bn\n",
      "(256,) (256,) (256,) (256,)\n",
      "inception_4a_3x3_conv1\n",
      "(1, 1, 640, 96)\n",
      "(96,)\n",
      "inception_4a_3x3_conv2\n",
      "(3, 3, 96, 192)\n",
      "(192,)\n",
      "inception_4a_3x3_bn1\n",
      "(96,) (96,) (96,) (96,)\n",
      "inception_4a_3x3_bn2\n",
      "(192,) (192,) (192,) (192,)\n",
      "inception_4a_5x5_conv1\n",
      "(1, 1, 640, 32)\n",
      "(32,)\n",
      "inception_4a_5x5_conv2\n",
      "(5, 5, 32, 64)\n",
      "(64,)\n",
      "inception_4a_5x5_bn1\n",
      "(32,) (32,) (32,) (32,)\n",
      "inception_4a_5x5_bn2\n",
      "(64,) (64,) (64,) (64,)\n",
      "inception_4a_pool_conv\n",
      "(1, 1, 640, 128)\n",
      "(128,)\n",
      "inception_4a_pool_bn\n",
      "(128,) (128,) (128,) (128,)\n",
      "inception_4e_3x3_conv1\n",
      "(1, 1, 640, 160)\n",
      "(160,)\n",
      "inception_4e_3x3_conv2\n",
      "(3, 3, 160, 256)\n",
      "(256,)\n",
      "inception_4e_3x3_bn1\n",
      "(160,) (160,) (160,) (160,)\n",
      "inception_4e_3x3_bn2\n",
      "(256,) (256,) (256,) (256,)\n",
      "inception_4e_5x5_conv1\n",
      "(1, 1, 640, 64)\n",
      "(64,)\n",
      "inception_4e_5x5_conv2\n",
      "(5, 5, 64, 128)\n",
      "(128,)\n",
      "inception_4e_5x5_bn1\n",
      "(64,) (64,) (64,) (64,)\n",
      "inception_4e_5x5_bn2\n",
      "(128,) (128,) (128,) (128,)\n",
      "inception_5a_1x1_conv\n",
      "(1, 1, 1024, 256)\n",
      "(256,)\n",
      "inception_5a_1x1_bn\n",
      "(256,) (256,) (256,) (256,)\n",
      "inception_5a_3x3_conv1\n",
      "(1, 1, 1024, 96)\n",
      "(96,)\n",
      "inception_5a_3x3_conv2\n",
      "(3, 3, 96, 384)\n",
      "(384,)\n",
      "inception_5a_3x3_bn1\n",
      "(96,) (96,) (96,) (96,)\n",
      "inception_5a_3x3_bn2\n",
      "(384,) (384,) (384,) (384,)\n",
      "inception_5a_pool_conv\n",
      "(1, 1, 1024, 96)\n",
      "(96,)\n",
      "inception_5a_pool_bn\n",
      "(96,) (96,) (96,) (96,)\n",
      "inception_5b_1x1_conv\n",
      "(1, 1, 736, 256)\n",
      "(256,)\n",
      "inception_5b_1x1_bn\n",
      "(256,) (256,) (256,) (256,)\n",
      "inception_5b_3x3_conv1\n",
      "(1, 1, 736, 96)\n",
      "(96,)\n",
      "inception_5b_3x3_conv2\n",
      "(3, 3, 96, 384)\n",
      "(384,)\n",
      "inception_5b_3x3_bn1\n",
      "(96,) (96,) (96,) (96,)\n",
      "inception_5b_3x3_bn2\n",
      "(384,) (384,) (384,) (384,)\n",
      "inception_5b_pool_conv\n",
      "(1, 1, 736, 96)\n",
      "(96,)\n",
      "inception_5b_pool_bn\n",
      "(96,) (96,) (96,) (96,)\n"
     ]
    }
   ],
   "source": [
    "from collections import defaultdict\n",
    "moduleWeightDict = defaultdict(lambda: defaultdict())\n",
    "parentPath = \"/Users/sam/All-Program/App-DataSet/Deep-Neural-Nets/Models/FaceNet-Inception\"\n",
    "\n",
    "\n",
    "for name in layer_name:\n",
    "    if 'conv' in name:\n",
    "        conv1_w = np.genfromtxt(parentPath+\"/\"+name+'_w.csv', delimiter=',', dtype=None)\n",
    "        conv1_w = np.reshape(conv1_w, convShape[name])\n",
    "        conv1_w = np.transpose(conv1_w, (2, 3, 1, 0))\n",
    "        conv1_b = np.genfromtxt(parentPath+\"/\"+name+'_b.csv', delimiter=',', dtype=None)\n",
    "        moduleWeightDict[name]['w'] = conv1_w\n",
    "        moduleWeightDict[name]['b'] = conv1_b\n",
    "        print (name)\n",
    "        print (conv1_w.shape)\n",
    "        print (conv1_b.shape)\n",
    "    elif 'dense' in name:\n",
    "        dense_w = np.genfromtxt(parentPath+\"/\"+name+'_w.csv', delimiter=',', dtype=None)\n",
    "        dense_w = np.reshape(dense_w, (128,736)) # Remember the input weights are in reverse order\n",
    "        dense_w = np.transpose(dense_w, (1,0))   # Transpose the input to accept as (layer_l, layer_l+1)\n",
    "        dense_b = np.genfromtxt(parentPath+\"/\"+name+'_b.csv', delimiter=',', dtype=None)\n",
    "        moduleWeightDict[name]['w'] = dense_w\n",
    "        moduleWeightDict[name]['b'] = dense_b\n",
    "    elif 'bn' in name:\n",
    "        bn_w = genfromtxt(parentPath+\"/\"+name+'_w.csv', delimiter=',', dtype=None)\n",
    "        bn_b = genfromtxt(parentPath+\"/\"+name+'_b.csv', delimiter=',', dtype=None)\n",
    "        bn_m = genfromtxt(parentPath+\"/\"+name+'_m.csv', delimiter=',', dtype=None)\n",
    "        bn_v = genfromtxt(parentPath+\"/\"+name+'_v.csv', delimiter=',', dtype=None)\n",
    "        moduleWeightDict[name]['w'] = bn_w\n",
    "        moduleWeightDict[name]['b'] = bn_b\n",
    "        moduleWeightDict[name]['m'] = bn_m\n",
    "        moduleWeightDict[name]['v'] = bn_v\n",
    "        print (name)\n",
    "        print (bn_w.shape, bn_b.shape, bn_m.shape, bn_v.shape)\n",
    "    \n",
    "# FRmodel.get_layer('conv1').set_weights([conv1_w, conv1_b])"
   ]
  },
  {
   "cell_type": "code",
   "execution_count": 16,
   "metadata": {},
   "outputs": [
    {
     "name": "stdout",
     "output_type": "stream",
     "text": [
      "(64,)\n"
     ]
    }
   ],
   "source": [
    "pop_mean = tf.Variable(tf.zeros([tf.cast(moduleWeightDict[\"conv1\"][\"w\"], dtype=tf.float32).get_shape()[-1]]), \n",
    "                       trainable=False)\n",
    "print (pop_mean.shape)"
   ]
  },
  {
   "cell_type": "code",
   "execution_count": 5,
   "metadata": {
    "scrolled": true
   },
   "outputs": [
    {
     "name": "stderr",
     "output_type": "stream",
     "text": [
      "/Users/sam/App-Setup/anaconda/lib/python3.6/site-packages/ipykernel_launcher.py:9: DeprecationWarning: `imread` is deprecated!\n",
      "`imread` is deprecated in SciPy 1.0.0, and will be removed in 1.2.0.\n",
      "Use ``imageio.imread`` instead.\n",
      "  if __name__ == '__main__':\n"
     ]
    },
    {
     "name": "stdout",
     "output_type": "stream",
     "text": [
      "(96, 96, 3)\n",
      "inpTensor  (?, 96, 96, 3)\n"
     ]
    },
    {
     "ename": "ValueError",
     "evalue": "Tensor conversion requested dtype float32 for Tensor with dtype float64: 'Tensor(\"conv1/bn1/mul:0\", shape=(64,), dtype=float64)'",
     "output_type": "error",
     "traceback": [
      "\u001b[0;31m---------------------------------------------------------------------------\u001b[0m",
      "\u001b[0;31mValueError\u001b[0m                                Traceback (most recent call last)",
      "\u001b[0;32m<ipython-input-5-707d995423ba>\u001b[0m in \u001b[0;36m<module>\u001b[0;34m()\u001b[0m\n\u001b[1;32m     10\u001b[0m \u001b[0mimg\u001b[0m\u001b[0;34m.\u001b[0m\u001b[0mshape\u001b[0m\u001b[0;34m\u001b[0m\u001b[0m\n\u001b[1;32m     11\u001b[0m \u001b[0mreset_graph\u001b[0m\u001b[0;34m(\u001b[0m\u001b[0;34m)\u001b[0m\u001b[0;34m\u001b[0m\u001b[0m\n\u001b[0;32m---> 12\u001b[0;31m \u001b[0mtensorDict\u001b[0m \u001b[0;34m=\u001b[0m \u001b[0mgetModel\u001b[0m\u001b[0;34m(\u001b[0m\u001b[0mimg\u001b[0m\u001b[0;34m.\u001b[0m\u001b[0mshape\u001b[0m\u001b[0;34m,\u001b[0m \u001b[0mparams\u001b[0m\u001b[0;34m=\u001b[0m\u001b[0mmoduleWeightDict\u001b[0m\u001b[0;34m)\u001b[0m\u001b[0;31m#(img, conv1_w, conv1_b, s=2, pad='SAME',  scope_name='conv1', isTrainable=False)\u001b[0m\u001b[0;34m\u001b[0m\u001b[0m\n\u001b[0m",
      "\u001b[0;32m/Users/sam/All-Program/App/DeepFaceRecognition/nn/Network.py\u001b[0m in \u001b[0;36mgetModel\u001b[0;34m(imgShape, params)\u001b[0m\n\u001b[1;32m     33\u001b[0m     \u001b[0;31m# Pad the input to make of actual size\u001b[0m\u001b[0;34m\u001b[0m\u001b[0;34m\u001b[0m\u001b[0m\n\u001b[1;32m     34\u001b[0m     \u001b[0mX\u001b[0m \u001b[0;34m=\u001b[0m \u001b[0mtf\u001b[0m\u001b[0;34m.\u001b[0m\u001b[0mpad\u001b[0m\u001b[0;34m(\u001b[0m\u001b[0minpTensor\u001b[0m\u001b[0;34m,\u001b[0m \u001b[0mpaddings\u001b[0m\u001b[0;34m=\u001b[0m\u001b[0;34m[\u001b[0m\u001b[0;34m[\u001b[0m\u001b[0;36m0\u001b[0m\u001b[0;34m,\u001b[0m \u001b[0;36m0\u001b[0m\u001b[0;34m]\u001b[0m\u001b[0;34m,\u001b[0m \u001b[0;34m[\u001b[0m\u001b[0;36m3\u001b[0m\u001b[0;34m,\u001b[0m \u001b[0;36m3\u001b[0m\u001b[0;34m]\u001b[0m\u001b[0;34m,\u001b[0m \u001b[0;34m[\u001b[0m\u001b[0;36m3\u001b[0m\u001b[0;34m,\u001b[0m \u001b[0;36m3\u001b[0m\u001b[0;34m]\u001b[0m\u001b[0;34m,\u001b[0m \u001b[0;34m[\u001b[0m\u001b[0;36m0\u001b[0m\u001b[0;34m,\u001b[0m \u001b[0;36m0\u001b[0m\u001b[0;34m]\u001b[0m\u001b[0;34m]\u001b[0m\u001b[0;34m)\u001b[0m\u001b[0;34m\u001b[0m\u001b[0m\n\u001b[0;32m---> 35\u001b[0;31m     \u001b[0mX\u001b[0m \u001b[0;34m=\u001b[0m \u001b[0mconv1\u001b[0m\u001b[0;34m(\u001b[0m\u001b[0mX\u001b[0m\u001b[0;34m,\u001b[0m \u001b[0mparams\u001b[0m\u001b[0;34m)\u001b[0m\u001b[0;34m\u001b[0m\u001b[0m\n\u001b[0m\u001b[1;32m     36\u001b[0m     \u001b[0mX\u001b[0m \u001b[0;34m=\u001b[0m \u001b[0mconv2\u001b[0m\u001b[0;34m(\u001b[0m\u001b[0mX\u001b[0m\u001b[0;34m,\u001b[0m \u001b[0mparams\u001b[0m\u001b[0;34m)\u001b[0m\u001b[0;34m\u001b[0m\u001b[0m\n\u001b[1;32m     37\u001b[0m     \u001b[0mX\u001b[0m \u001b[0;34m=\u001b[0m \u001b[0mconv3\u001b[0m\u001b[0;34m(\u001b[0m\u001b[0mX\u001b[0m\u001b[0;34m,\u001b[0m \u001b[0mparams\u001b[0m\u001b[0;34m)\u001b[0m\u001b[0;34m\u001b[0m\u001b[0m\n",
      "\u001b[0;32m/Users/sam/All-Program/App/DeepFaceRecognition/nn/Model.py\u001b[0m in \u001b[0;36mconv1\u001b[0;34m(X, params)\u001b[0m\n\u001b[1;32m     14\u001b[0m                       \u001b[0mmean\u001b[0m\u001b[0;34m=\u001b[0m\u001b[0mparams\u001b[0m\u001b[0;34m[\u001b[0m\u001b[0mbn_name\u001b[0m\u001b[0;34m]\u001b[0m\u001b[0;34m[\u001b[0m\u001b[0;34m'm'\u001b[0m\u001b[0;34m]\u001b[0m\u001b[0;34m,\u001b[0m \u001b[0mvar\u001b[0m\u001b[0;34m=\u001b[0m\u001b[0mparams\u001b[0m\u001b[0;34m[\u001b[0m\u001b[0mbn_name\u001b[0m\u001b[0;34m]\u001b[0m\u001b[0;34m[\u001b[0m\u001b[0;34m'v'\u001b[0m\u001b[0;34m]\u001b[0m\u001b[0;34m,\u001b[0m\u001b[0;34m\u001b[0m\u001b[0m\n\u001b[1;32m     15\u001b[0m                       \u001b[0mgamma\u001b[0m\u001b[0;34m=\u001b[0m\u001b[0mparams\u001b[0m\u001b[0;34m[\u001b[0m\u001b[0mbn_name\u001b[0m\u001b[0;34m]\u001b[0m\u001b[0;34m[\u001b[0m\u001b[0;34m'w'\u001b[0m\u001b[0;34m]\u001b[0m\u001b[0;34m,\u001b[0m \u001b[0mbeta\u001b[0m\u001b[0;34m=\u001b[0m\u001b[0mparams\u001b[0m\u001b[0;34m[\u001b[0m\u001b[0mbn_name\u001b[0m\u001b[0;34m]\u001b[0m\u001b[0;34m[\u001b[0m\u001b[0;34m'b'\u001b[0m\u001b[0;34m]\u001b[0m\u001b[0;34m,\u001b[0m\u001b[0;34m\u001b[0m\u001b[0m\n\u001b[0;32m---> 16\u001b[0;31m                       isTrainable=False, name=bn_name)\n\u001b[0m\u001b[1;32m     17\u001b[0m         \u001b[0mX\u001b[0m \u001b[0;34m=\u001b[0m \u001b[0mactivation\u001b[0m\u001b[0;34m(\u001b[0m\u001b[0mX\u001b[0m\u001b[0;34m,\u001b[0m \u001b[0mtype\u001b[0m\u001b[0;34m=\u001b[0m\u001b[0;34m\"relu\"\u001b[0m\u001b[0;34m)\u001b[0m\u001b[0;34m\u001b[0m\u001b[0m\n\u001b[1;32m     18\u001b[0m         \u001b[0mprint\u001b[0m\u001b[0;34m(\u001b[0m\u001b[0;34m'conv1: '\u001b[0m\u001b[0;34m,\u001b[0m \u001b[0mX\u001b[0m\u001b[0;34m.\u001b[0m\u001b[0mshape\u001b[0m\u001b[0;34m)\u001b[0m\u001b[0;34m\u001b[0m\u001b[0m\n",
      "\u001b[0;32m/Users/sam/All-Program/App/DeepFaceRecognition/nn/Inception.py\u001b[0m in \u001b[0;36mbatchNorm\u001b[0;34m(inpTensor, mean, var, gamma, beta, isTrainable, name)\u001b[0m\n\u001b[1;32m     40\u001b[0m         \u001b[0mw\u001b[0m \u001b[0;34m=\u001b[0m \u001b[0mtf\u001b[0m\u001b[0;34m.\u001b[0m\u001b[0mconstant\u001b[0m\u001b[0;34m(\u001b[0m\u001b[0mgamma\u001b[0m\u001b[0;34m,\u001b[0m \u001b[0mname\u001b[0m\u001b[0;34m=\u001b[0m\u001b[0;34m'Scale'\u001b[0m\u001b[0;34m)\u001b[0m\u001b[0;34m\u001b[0m\u001b[0m\n\u001b[1;32m     41\u001b[0m         bn = tf.nn.batch_normalization(inpTensor, mean=m, variance=v, offset=b, scale=w,\n\u001b[0;32m---> 42\u001b[0;31m                                        variance_epsilon=1e-5, name=name)\n\u001b[0m\u001b[1;32m     43\u001b[0m     \u001b[0;32melse\u001b[0m\u001b[0;34m:\u001b[0m\u001b[0;34m\u001b[0m\u001b[0m\n\u001b[1;32m     44\u001b[0m         \u001b[0mbn\u001b[0m\u001b[0;34m=\u001b[0m\u001b[0;32mNone\u001b[0m\u001b[0;34m\u001b[0m\u001b[0m\n",
      "\u001b[0;32m/Users/sam/App-Setup/anaconda/lib/python3.6/site-packages/tensorflow/python/ops/nn_impl.py\u001b[0m in \u001b[0;36mbatch_normalization\u001b[0;34m(x, mean, variance, offset, scale, variance_epsilon, name)\u001b[0m\n\u001b[1;32m    757\u001b[0m     \u001b[0;32mif\u001b[0m \u001b[0mscale\u001b[0m \u001b[0;32mis\u001b[0m \u001b[0;32mnot\u001b[0m \u001b[0;32mNone\u001b[0m\u001b[0;34m:\u001b[0m\u001b[0;34m\u001b[0m\u001b[0m\n\u001b[1;32m    758\u001b[0m       \u001b[0minv\u001b[0m \u001b[0;34m*=\u001b[0m \u001b[0mscale\u001b[0m\u001b[0;34m\u001b[0m\u001b[0m\n\u001b[0;32m--> 759\u001b[0;31m     return x * inv + (offset - mean * inv\n\u001b[0m\u001b[1;32m    760\u001b[0m                       if offset is not None else -mean * inv)\n\u001b[1;32m    761\u001b[0m \u001b[0;34m\u001b[0m\u001b[0m\n",
      "\u001b[0;32m/Users/sam/App-Setup/anaconda/lib/python3.6/site-packages/tensorflow/python/ops/math_ops.py\u001b[0m in \u001b[0;36mbinary_op_wrapper\u001b[0;34m(x, y)\u001b[0m\n\u001b[1;32m    854\u001b[0m       \u001b[0;32mif\u001b[0m \u001b[0;32mnot\u001b[0m \u001b[0misinstance\u001b[0m\u001b[0;34m(\u001b[0m\u001b[0my\u001b[0m\u001b[0;34m,\u001b[0m \u001b[0msparse_tensor\u001b[0m\u001b[0;34m.\u001b[0m\u001b[0mSparseTensor\u001b[0m\u001b[0;34m)\u001b[0m\u001b[0;34m:\u001b[0m\u001b[0;34m\u001b[0m\u001b[0m\n\u001b[1;32m    855\u001b[0m         \u001b[0;32mtry\u001b[0m\u001b[0;34m:\u001b[0m\u001b[0;34m\u001b[0m\u001b[0m\n\u001b[0;32m--> 856\u001b[0;31m           \u001b[0my\u001b[0m \u001b[0;34m=\u001b[0m \u001b[0mops\u001b[0m\u001b[0;34m.\u001b[0m\u001b[0mconvert_to_tensor\u001b[0m\u001b[0;34m(\u001b[0m\u001b[0my\u001b[0m\u001b[0;34m,\u001b[0m \u001b[0mdtype\u001b[0m\u001b[0;34m=\u001b[0m\u001b[0mx\u001b[0m\u001b[0;34m.\u001b[0m\u001b[0mdtype\u001b[0m\u001b[0;34m.\u001b[0m\u001b[0mbase_dtype\u001b[0m\u001b[0;34m,\u001b[0m \u001b[0mname\u001b[0m\u001b[0;34m=\u001b[0m\u001b[0;34m\"y\"\u001b[0m\u001b[0;34m)\u001b[0m\u001b[0;34m\u001b[0m\u001b[0m\n\u001b[0m\u001b[1;32m    857\u001b[0m         \u001b[0;32mexcept\u001b[0m \u001b[0mTypeError\u001b[0m\u001b[0;34m:\u001b[0m\u001b[0;34m\u001b[0m\u001b[0m\n\u001b[1;32m    858\u001b[0m           \u001b[0;31m# If the RHS is not a tensor, it might be a tensor aware object\u001b[0m\u001b[0;34m\u001b[0m\u001b[0;34m\u001b[0m\u001b[0m\n",
      "\u001b[0;32m/Users/sam/App-Setup/anaconda/lib/python3.6/site-packages/tensorflow/python/framework/ops.py\u001b[0m in \u001b[0;36mconvert_to_tensor\u001b[0;34m(value, dtype, name, preferred_dtype)\u001b[0m\n\u001b[1;32m    609\u001b[0m       \u001b[0mname\u001b[0m\u001b[0;34m=\u001b[0m\u001b[0mname\u001b[0m\u001b[0;34m,\u001b[0m\u001b[0;34m\u001b[0m\u001b[0m\n\u001b[1;32m    610\u001b[0m       \u001b[0mpreferred_dtype\u001b[0m\u001b[0;34m=\u001b[0m\u001b[0mpreferred_dtype\u001b[0m\u001b[0;34m,\u001b[0m\u001b[0;34m\u001b[0m\u001b[0m\n\u001b[0;32m--> 611\u001b[0;31m       as_ref=False)\n\u001b[0m\u001b[1;32m    612\u001b[0m \u001b[0;34m\u001b[0m\u001b[0m\n\u001b[1;32m    613\u001b[0m \u001b[0;34m\u001b[0m\u001b[0m\n",
      "\u001b[0;32m/Users/sam/App-Setup/anaconda/lib/python3.6/site-packages/tensorflow/python/framework/ops.py\u001b[0m in \u001b[0;36minternal_convert_to_tensor\u001b[0;34m(value, dtype, name, as_ref, preferred_dtype)\u001b[0m\n\u001b[1;32m    674\u001b[0m \u001b[0;34m\u001b[0m\u001b[0m\n\u001b[1;32m    675\u001b[0m         \u001b[0;32mif\u001b[0m \u001b[0mret\u001b[0m \u001b[0;32mis\u001b[0m \u001b[0;32mNone\u001b[0m\u001b[0;34m:\u001b[0m\u001b[0;34m\u001b[0m\u001b[0m\n\u001b[0;32m--> 676\u001b[0;31m           \u001b[0mret\u001b[0m \u001b[0;34m=\u001b[0m \u001b[0mconversion_func\u001b[0m\u001b[0;34m(\u001b[0m\u001b[0mvalue\u001b[0m\u001b[0;34m,\u001b[0m \u001b[0mdtype\u001b[0m\u001b[0;34m=\u001b[0m\u001b[0mdtype\u001b[0m\u001b[0;34m,\u001b[0m \u001b[0mname\u001b[0m\u001b[0;34m=\u001b[0m\u001b[0mname\u001b[0m\u001b[0;34m,\u001b[0m \u001b[0mas_ref\u001b[0m\u001b[0;34m=\u001b[0m\u001b[0mas_ref\u001b[0m\u001b[0;34m)\u001b[0m\u001b[0;34m\u001b[0m\u001b[0m\n\u001b[0m\u001b[1;32m    677\u001b[0m \u001b[0;34m\u001b[0m\u001b[0m\n\u001b[1;32m    678\u001b[0m         \u001b[0;32mif\u001b[0m \u001b[0mret\u001b[0m \u001b[0;32mis\u001b[0m \u001b[0mNotImplemented\u001b[0m\u001b[0;34m:\u001b[0m\u001b[0;34m\u001b[0m\u001b[0m\n",
      "\u001b[0;32m/Users/sam/App-Setup/anaconda/lib/python3.6/site-packages/tensorflow/python/framework/ops.py\u001b[0m in \u001b[0;36m_TensorTensorConversionFunction\u001b[0;34m(t, dtype, name, as_ref)\u001b[0m\n\u001b[1;32m    547\u001b[0m     raise ValueError(\n\u001b[1;32m    548\u001b[0m         \u001b[0;34m\"Tensor conversion requested dtype %s for Tensor with dtype %s: %r\"\u001b[0m\u001b[0;34m\u001b[0m\u001b[0m\n\u001b[0;32m--> 549\u001b[0;31m         % (dtype.name, t.dtype.name, str(t)))\n\u001b[0m\u001b[1;32m    550\u001b[0m   \u001b[0;32mreturn\u001b[0m \u001b[0mt\u001b[0m\u001b[0;34m\u001b[0m\u001b[0m\n\u001b[1;32m    551\u001b[0m \u001b[0;34m\u001b[0m\u001b[0m\n",
      "\u001b[0;31mValueError\u001b[0m: Tensor conversion requested dtype float32 for Tensor with dtype float64: 'Tensor(\"conv1/bn1/mul:0\", shape=(64,), dtype=float64)'"
     ]
    }
   ],
   "source": [
    "from Network import getModel\n",
    "\n",
    "def reset_graph():  # Reset the graph\n",
    "    if 'sess' in globals() and sess:\n",
    "        sess.close()\n",
    "    tf.reset_default_graph()\n",
    "\n",
    "img = readImage(picPath)\n",
    "# img = np.reshape(img, (1,img.shape[0], img.shape[1], img.shape[2]))\n",
    "img.shape\n",
    "reset_graph()\n",
    "tensorDict = getModel(img.shape, params=moduleWeightDict)#(img, conv1_w, conv1_b, s=2, pad='SAME',  scope_name='conv1', isTrainable=False)"
   ]
  },
  {
   "cell_type": "code",
   "execution_count": null,
   "metadata": {
    "collapsed": true
   },
   "outputs": [],
   "source": []
  },
  {
   "cell_type": "code",
   "execution_count": null,
   "metadata": {
    "collapsed": true
   },
   "outputs": [],
   "source": []
  },
  {
   "cell_type": "code",
   "execution_count": null,
   "metadata": {
    "collapsed": true
   },
   "outputs": [],
   "source": []
  },
  {
   "cell_type": "code",
   "execution_count": null,
   "metadata": {
    "collapsed": true
   },
   "outputs": [],
   "source": []
  },
  {
   "cell_type": "code",
   "execution_count": 6,
   "metadata": {
    "scrolled": true
   },
   "outputs": [
    {
     "name": "stdout",
     "output_type": "stream",
     "text": [
      "(96, 96, 3)\n",
      "inpTensor  (?, 96, 96, 3)\n",
      "conv1:  (?, 48, 48, 64)\n",
      "conv1 Zero-Padding + MAXPOOL  (?, 50, 50, 64)\n",
      "conv1 Zero-Padding + MAXPOOL  (?, 24, 24, 64)\n",
      "conv2:  (?, 24, 24, 64)\n",
      "conv2 Zero-Padding + MAXPOOL  (?, 26, 26, 64)\n",
      "conv3:  (?, 24, 24, 192)\n",
      "conv3 Zero-Padding + MAXPOOL  (?, 26, 26, 192)\n",
      "conv3 Zero-Padding + MAXPOOL  (?, 12, 12, 192)\n",
      "Inside Inception module1:  (?, 12, 12, 192)\n"
     ]
    },
    {
     "name": "stderr",
     "output_type": "stream",
     "text": [
      "/Users/sam/App-Setup/anaconda/lib/python3.6/site-packages/ipykernel_launcher.py:9: DeprecationWarning: `imread` is deprecated!\n",
      "`imread` is deprecated in SciPy 1.0.0, and will be removed in 1.2.0.\n",
      "Use ``imageio.imread`` instead.\n",
      "  if __name__ == '__main__':\n"
     ]
    },
    {
     "name": "stdout",
     "output_type": "stream",
     "text": [
      "Chain 2:  (?, 12, 12, 128)\n",
      "Chain 3:  (?, 12, 12, 32)\n",
      "Chain 4:  (?, 12, 12, 32)\n",
      "Chain 1:  (?, 12, 12, 64)\n",
      "inception3a:  (?, 12, 12, 256)\n",
      "Inside Inception module1:  (?, 12, 12, 256)\n",
      "Chain 2:  (?, 12, 12, 128)\n",
      "Chain 3:  (?, 12, 12, 64)\n",
      "Chain 4:  (?, 12, 12, 64)\n",
      "Chain 1:  (?, 12, 12, 64)\n",
      "inception3b:  (?, 12, 12, 320)\n"
     ]
    }
   ],
   "source": [
    "from nn.Inception import getModel\n",
    "\n",
    "def reset_graph():  # Reset the graph\n",
    "    if 'sess' in globals() and sess:\n",
    "        sess.close()\n",
    "    tf.reset_default_graph()\n",
    "\n",
    "img = readImage(picPath)\n",
    "# img = np.reshape(img, (1,img.shape[0], img.shape[1], img.shape[2]))\n",
    "img.shape\n",
    "reset_graph()\n",
    "tensorDict = getModel(img.shape, params=moduleWeightDict)#(img, conv1_w, conv1_b, s=2, pad='SAME',  scope_name='conv1', isTrainable=False)"
   ]
  },
  {
   "cell_type": "code",
   "execution_count": null,
   "metadata": {
    "collapsed": true
   },
   "outputs": [],
   "source": [
    "with tf.Session() as sess:\n",
    "    sess.run(tf.global_variables_initializer())\n",
    "#     print (img.shape)\n",
    "    img1 = np.reshape(img, (1,img.shape[0], img.shape[1], img.shape[2]))\n",
    "    print (img1.shape)\n",
    "    x = sess.run([tensorDict['output']], feed_dict={tensorDict['inpTensor']:img1})\n",
    "    print (x[0].shape)"
   ]
  },
  {
   "cell_type": "code",
   "execution_count": null,
   "metadata": {
    "collapsed": true
   },
   "outputs": [],
   "source": []
  }
 ],
 "metadata": {
  "kernelspec": {
   "display_name": "Python 3",
   "language": "python",
   "name": "python3"
  },
  "language_info": {
   "codemirror_mode": {
    "name": "ipython",
    "version": 3
   },
   "file_extension": ".py",
   "mimetype": "text/x-python",
   "name": "python",
   "nbconvert_exporter": "python",
   "pygments_lexer": "ipython3",
   "version": "3.6.1"
  }
 },
 "nbformat": 4,
 "nbformat_minor": 1
}
